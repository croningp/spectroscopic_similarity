{
 "cells": [
  {
   "cell_type": "code",
   "execution_count": null,
   "id": "0",
   "metadata": {},
   "outputs": [],
   "source": [
    "import numpy as np\n",
    "import matplotlib.pyplot as plt\n",
    "\n",
    "plt.rcParams.update(\n",
    "    {\n",
    "        \"font.size\": 18,\n",
    "        \"axes.linewidth\": 3,\n",
    "        \"xtick.major.width\": 3,\n",
    "        \"ytick.major.width\": 3,\n",
    "        \"xtick.minor.width\": 3,\n",
    "        \"ytick.minor.width\": 3,\n",
    "    }\n",
    ")\n",
    "\n",
    "# Time array\n",
    "time = np.linspace(0, 10, 500)\n",
    "\n",
    "# 1. Random fluctuations around 0.95\n",
    "np.random.seed(0)\n",
    "random_fluctuations = 0.95 + 0.01 * np.random.randn(len(time))\n",
    "\n",
    "# 2. Exponential decay\n",
    "exponential_decay = np.exp(-time)\n",
    "\n",
    "# 3. Sigmoid shape\n",
    "sigmoid = -1 / (1 + np.exp(-(time - 5))) + 1\n",
    "\n",
    "# 4. Oscillating around 0.6\n",
    "oscillation = 0.7 + 0.1 * np.sin(2 * np.pi * time)\n",
    "\n",
    "# Plotting\n",
    "plt.figure(figsize=(8, 5))\n",
    "plt.plot(time, random_fluctuations, label=\"Unreactive mixture\", linewidth=3)\n",
    "plt.plot(time, exponential_decay, label=\"Typical reaction profile\", linewidth=3)\n",
    "plt.plot(time, sigmoid, label=\"Autocatalysis\", linewidth=3)\n",
    "plt.plot(time, oscillation, label=\"Oscillation\", linewidth=3)\n",
    "\n",
    "plt.xticks([])\n",
    "plt.yticks([])\n",
    "\n",
    "plt.xlabel(\"Time\")\n",
    "plt.ylabel(\"Similarity Index\")\n",
    "plt.legend()\n",
    "plt.tight_layout()\n",
    "plt.savefig(\"TOC_concept.svg\", transparent=True, bbox_inches=\"tight\")\n",
    "plt.show()"
   ]
  },
  {
   "cell_type": "code",
   "execution_count": null,
   "id": "1",
   "metadata": {},
   "outputs": [],
   "source": []
  }
 ],
 "metadata": {
  "kernelspec": {
   "display_name": "xdl",
   "language": "python",
   "name": "python3"
  },
  "language_info": {
   "codemirror_mode": {
    "name": "ipython",
    "version": 3
   },
   "file_extension": ".py",
   "mimetype": "text/x-python",
   "name": "python",
   "nbconvert_exporter": "python",
   "pygments_lexer": "ipython3",
   "version": "3.12.9"
  }
 },
 "nbformat": 4,
 "nbformat_minor": 5
}
