{
 "cells": [
  {
   "cell_type": "code",
   "execution_count": null,
   "metadata": {},
   "outputs": [],
   "source": [
    "from matplotlib import pyplot as plt\n",
    "import numpy as np\n",
    "import pandas as pd"
   ]
  },
  {
   "cell_type": "code",
   "execution_count": null,
   "metadata": {},
   "outputs": [],
   "source": [
    "data = pd.read_csv(\"arrhenius-plotdata.csv\")\n",
    "data[\"1/T\"] = 1 / (data[\"T\"] + 273.15)"
   ]
  },
  {
   "cell_type": "code",
   "execution_count": null,
   "metadata": {},
   "outputs": [],
   "source": [
    "plt.rcParams.update(\n",
    "    {\n",
    "        \"font.size\": 24,\n",
    "        \"axes.linewidth\": 3,\n",
    "        \"xtick.major.width\": 3,\n",
    "        \"ytick.major.width\": 3,\n",
    "        \"xtick.minor.width\": 3,\n",
    "        \"ytick.minor.width\": 3,\n",
    "    }\n",
    ")"
   ]
  },
  {
   "cell_type": "code",
   "execution_count": null,
   "metadata": {},
   "outputs": [],
   "source": [
    "FONTSIZE = 24\n",
    "fig = plt.figure(figsize=(8, 8))\n",
    "\n",
    "ax1 = fig.add_subplot(111)\n",
    "# invert axis\n",
    "ax1.invert_xaxis()\n",
    "ax2 = ax1.twiny()\n",
    "\n",
    "# error bars\n",
    "ax1.errorbar(data[\"1/T\"], data[\"lg(b)\"], yerr=data[\"err(lg(b))\"], fmt=\"o\", c=\"k\")\n",
    "# format x axis scientific notation\n",
    "ax1.ticklabel_format(style=\"sci\", axis=\"x\", scilimits=(0, 0))\n",
    "ax1.set_xlabel(r\"$\\frac{1}{T}$ in $\\frac{1}{K}$\", fontsize=FONTSIZE)\n",
    "ax1.set_ylabel(r\"$\\ln(k)$\", fontsize=FONTSIZE)\n",
    "\n",
    "\n",
    "def reciprocal(x):\n",
    "    return 1 / x\n",
    "\n",
    "\n",
    "# add second x axis\n",
    "ax2.set_xlim(ax1.get_xlim())\n",
    "ax2.set_xticks(data[\"1/T\"])\n",
    "ax2.set_xticklabels(data[\"T\"])\n",
    "ax2.set_xlabel(r\"$T$ in $K$\", fontsize=FONTSIZE)\n",
    "\n",
    "# fit a line with linear regression\n",
    "fit = np.polyfit(data[\"1/T\"], data[\"lg(b)\"], 1)\n",
    "ax1.plot(\n",
    "    data[\"1/T\"],\n",
    "    np.polyval(fit, data[\"1/T\"]),\n",
    "    \"k-\",\n",
    "    label=f\"fit: $y = {fit[0]:.0f} \\cdot x + {fit[1]:.3f}$\",\n",
    ")\n",
    "ax1.legend()\n",
    "\n",
    "# plt.title('Arrhenius plot', fontsize=FONTSIZE)\n",
    "# plt.savefig('arrhenius-plot-leg.eps', format='eps', dpi=1000, bbox_inches='tight', transparent=False)\n",
    "# plt.savefig('arrhenius-plot-leg.png', dpi=1000, bbox_inches='tight', transparent=True)\n",
    "plt.savefig(\"arrhenius-plot-leg.svg\", dpi=1000, bbox_inches=\"tight\", transparent=True)"
   ]
  },
  {
   "cell_type": "code",
   "execution_count": null,
   "metadata": {},
   "outputs": [],
   "source": [
    "fit"
   ]
  },
  {
   "cell_type": "code",
   "execution_count": null,
   "metadata": {},
   "outputs": [],
   "source": []
  }
 ],
 "metadata": {
  "kernelspec": {
   "display_name": "xdl",
   "language": "python",
   "name": "python3"
  },
  "language_info": {
   "codemirror_mode": {
    "name": "ipython",
    "version": 3
   },
   "file_extension": ".py",
   "mimetype": "text/x-python",
   "name": "python",
   "nbconvert_exporter": "python",
   "pygments_lexer": "ipython3",
   "version": "3.12.9"
  }
 },
 "nbformat": 4,
 "nbformat_minor": 2
}
